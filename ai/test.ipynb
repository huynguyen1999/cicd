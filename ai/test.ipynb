{
 "cells": [
  {
   "cell_type": "code",
   "execution_count": 1,
   "metadata": {},
   "outputs": [],
   "source": [
    "import tensorflow as tf\n",
    "from tensorflow.keras.layers import TextVectorization\n",
    "from tensorflow.keras.models import Sequential\n",
    "from tensorflow.keras.layers import LSTM, Bidirectional, Dense, Embedding\n",
    "import pandas as pd\n",
    "import face_recognition\n",
    "\n",
    "MAX_FEATURES = 200000\n",
    "SEQUENCE_LENGTH = 1800\n",
    "\n"
   ]
  },
  {
   "cell_type": "code",
   "execution_count": 2,
   "metadata": {},
   "outputs": [
    {
     "name": "stderr",
     "output_type": "stream",
     "text": [
      "2023-11-13 14:11:23.583687: I metal_plugin/src/device/metal_device.cc:1154] Metal device set to: Apple M2\n",
      "2023-11-13 14:11:23.583709: I metal_plugin/src/device/metal_device.cc:296] systemMemory: 16.00 GB\n",
      "2023-11-13 14:11:23.583713: I metal_plugin/src/device/metal_device.cc:313] maxCacheSize: 5.33 GB\n",
      "2023-11-13 14:11:23.583907: I tensorflow/core/common_runtime/pluggable_device/pluggable_device_factory.cc:303] Could not identify NUMA node of platform GPU ID 0, defaulting to 0. Your kernel may not have been built with NUMA support.\n",
      "2023-11-13 14:11:23.583924: I tensorflow/core/common_runtime/pluggable_device/pluggable_device_factory.cc:269] Created TensorFlow device (/job:localhost/replica:0/task:0/device:GPU:0 with 0 MB memory) -> physical PluggableDevice (device: 0, name: METAL, pci bus id: <undefined>)\n",
      "2023-11-13 14:11:23.678110: I tensorflow/core/grappler/optimizers/custom_graph_optimizer_registry.cc:114] Plugin optimizer for device_type GPU is enabled.\n"
     ]
    }
   ],
   "source": [
    "data = pd.read_csv(\"./data/toxicity.csv\")\n",
    "X = data[\"comment_text\"]\n",
    "y = data[data.columns[2:]].values\n",
    "vectorizer = TextVectorization(\n",
    "    max_tokens=MAX_FEATURES,\n",
    "    output_sequence_length=SEQUENCE_LENGTH,\n",
    "    output_mode=\"int\",\n",
    ")\n",
    "vectorizer.adapt(X.values)\n",
    "vectorized_text = vectorizer(X.values)\n",
    "dataset = tf.data.Dataset.from_tensor_slices((vectorized_text, y))\n",
    "dataset = dataset.cache()\n",
    "dataset = dataset.shuffle(160000)\n",
    "dataset = dataset.batch(32)\n",
    "dataset = dataset.prefetch(8)  # helps bottlene"
   ]
  },
  {
   "cell_type": "code",
   "execution_count": 3,
   "metadata": {},
   "outputs": [],
   "source": [
    "train = dataset.take(int(len(dataset) * 0.7))\n",
    "val = dataset.skip(int(len(dataset) * 0.7)).take(int(len(dataset) * 0.2))\n",
    "test = dataset.skip(int(len(dataset) * 0.9)).take(int(len(dataset) * 0.1))"
   ]
  },
  {
   "cell_type": "code",
   "execution_count": 4,
   "metadata": {},
   "outputs": [
    {
     "name": "stdout",
     "output_type": "stream",
     "text": [
      "Model: \"sequential\"\n",
      "_________________________________________________________________\n",
      " Layer (type)                Output Shape              Param #   \n",
      "=================================================================\n",
      " embedding (Embedding)       (None, None, 32)          6400032   \n",
      "                                                                 \n",
      " bidirectional (Bidirection  (None, 64)                16640     \n",
      " al)                                                             \n",
      "                                                                 \n",
      " dense (Dense)               (None, 128)               8320      \n",
      "                                                                 \n",
      " dense_1 (Dense)             (None, 256)               33024     \n",
      "                                                                 \n",
      " dense_2 (Dense)             (None, 128)               32896     \n",
      "                                                                 \n",
      " dense_3 (Dense)             (None, 6)                 774       \n",
      "                                                                 \n",
      "=================================================================\n",
      "Total params: 6491686 (24.76 MB)\n",
      "Trainable params: 6491686 (24.76 MB)\n",
      "Non-trainable params: 0 (0.00 Byte)\n",
      "_________________________________________________________________\n"
     ]
    }
   ],
   "source": [
    "model = Sequential()\n",
    "# Create the embedding layer\n",
    "model.add(Embedding(MAX_FEATURES + 1, 32))\n",
    "# Bidirectional LSTM Layer\n",
    "model.add(Bidirectional(LSTM(32, activation=\"tanh\")))\n",
    "# Feature extractor Fully connected layers\n",
    "model.add(Dense(128, activation=\"relu\"))\n",
    "model.add(Dense(256, activation=\"relu\"))\n",
    "model.add(Dense(128, activation=\"relu\"))\n",
    "# Final layer\n",
    "model.add(Dense(6, activation=\"sigmoid\"))\n",
    "model.compile(loss=\"BinaryCrossentropy\", optimizer=\"Adam\")\n",
    "model.summary()"
   ]
  },
  {
   "cell_type": "code",
   "execution_count": 5,
   "metadata": {},
   "outputs": [
    {
     "name": "stdout",
     "output_type": "stream",
     "text": [
      "Epoch 1/2\n"
     ]
    },
    {
     "name": "stderr",
     "output_type": "stream",
     "text": [
      "2023-11-13 14:11:32.539878: I tensorflow/core/grappler/optimizers/custom_graph_optimizer_registry.cc:114] Plugin optimizer for device_type GPU is enabled.\n",
      "2023-11-13 14:11:33.330695: I tensorflow/core/grappler/optimizers/custom_graph_optimizer_registry.cc:114] Plugin optimizer for device_type GPU is enabled.\n",
      "2023-11-13 14:11:33.364044: I tensorflow/core/grappler/optimizers/custom_graph_optimizer_registry.cc:114] Plugin optimizer for device_type GPU is enabled.\n",
      "2023-11-13 14:11:36.636313: I tensorflow/core/grappler/optimizers/custom_graph_optimizer_registry.cc:114] Plugin optimizer for device_type GPU is enabled.\n",
      "2023-11-13 14:11:36.657175: I tensorflow/core/grappler/optimizers/custom_graph_optimizer_registry.cc:114] Plugin optimizer for device_type GPU is enabled.\n"
     ]
    },
    {
     "name": "stdout",
     "output_type": "stream",
     "text": [
      "3490/3490 [==============================] - ETA: 0s - loss: 0.0932"
     ]
    },
    {
     "name": "stderr",
     "output_type": "stream",
     "text": [
      "2023-11-13 14:26:31.564225: I tensorflow/core/grappler/optimizers/custom_graph_optimizer_registry.cc:114] Plugin optimizer for device_type GPU is enabled.\n",
      "2023-11-13 14:26:32.668202: I tensorflow/core/grappler/optimizers/custom_graph_optimizer_registry.cc:114] Plugin optimizer for device_type GPU is enabled.\n",
      "2023-11-13 14:26:32.716931: I tensorflow/core/grappler/optimizers/custom_graph_optimizer_registry.cc:114] Plugin optimizer for device_type GPU is enabled.\n"
     ]
    },
    {
     "name": "stdout",
     "output_type": "stream",
     "text": [
      "3490/3490 [==============================] - 963s 274ms/step - loss: 0.0932 - val_loss: 0.0507\n",
      "Epoch 2/2\n",
      "3490/3490 [==============================] - 802s 230ms/step - loss: 0.0578 - val_loss: 0.0534\n"
     ]
    },
    {
     "data": {
      "text/plain": [
       "<keras.src.callbacks.History at 0x2c0c10d90>"
      ]
     },
     "execution_count": 5,
     "metadata": {},
     "output_type": "execute_result"
    }
   ],
   "source": [
    "model.fit(train, epochs=2, validation_data=val)"
   ]
  },
  {
   "cell_type": "code",
   "execution_count": 6,
   "metadata": {},
   "outputs": [
    {
     "name": "stderr",
     "output_type": "stream",
     "text": [
      "/Users/admin/miniconda3/lib/python3.10/site-packages/keras/src/engine/training.py:3000: UserWarning: You are saving your model as an HDF5 file via `model.save()`. This file format is considered legacy. We recommend using instead the native Keras format, e.g. `model.save('my_model.keras')`.\n",
      "  saving_api.save_model(\n"
     ]
    }
   ],
   "source": [
    "model.save('./models/toxicity.h5')"
   ]
  },
  {
   "cell_type": "code",
   "execution_count": 7,
   "metadata": {},
   "outputs": [],
   "source": [
    "saved_model = tf.keras.models.load_model('./models/toxicity.h5')"
   ]
  },
  {
   "cell_type": "code",
   "execution_count": 8,
   "metadata": {},
   "outputs": [
    {
     "name": "stderr",
     "output_type": "stream",
     "text": [
      "2023-11-13 14:40:57.346621: I tensorflow/core/grappler/optimizers/custom_graph_optimizer_registry.cc:114] Plugin optimizer for device_type GPU is enabled.\n",
      "2023-11-13 14:40:57.676663: I tensorflow/core/grappler/optimizers/custom_graph_optimizer_registry.cc:114] Plugin optimizer for device_type GPU is enabled.\n",
      "2023-11-13 14:40:57.689112: I tensorflow/core/grappler/optimizers/custom_graph_optimizer_registry.cc:114] Plugin optimizer for device_type GPU is enabled.\n"
     ]
    },
    {
     "name": "stdout",
     "output_type": "stream",
     "text": [
      "1/1 [==============================] - 2s 2s/step\n"
     ]
    },
    {
     "data": {
      "text/plain": [
       "array([[0.99155957, 0.25211388, 0.98192936, 0.00539784, 0.9731204 ,\n",
       "        0.12561078]], dtype=float32)"
      ]
     },
     "execution_count": 8,
     "metadata": {},
     "output_type": "execute_result"
    }
   ],
   "source": [
    "vectorized_text = vectorizer(\"Stupid peace of shit stop deleting my stuff asshole go die and fall in a hole go to hell\")\n",
    "vectorized_text_batch = tf.expand_dims(vectorized_text, axis=0)\n",
    "prediction = saved_model.predict(vectorized_text_batch)\n",
    "prediction"
   ]
  },
  {
   "cell_type": "code",
   "execution_count": 2,
   "metadata": {},
   "outputs": [
    {
     "data": {
      "text/plain": [
       "[array([-0.02318662,  0.04750833,  0.00431102, -0.08871661, -0.14002404,\n",
       "         0.00737369, -0.07007979, -0.05127694,  0.1598185 , -0.16487238,\n",
       "         0.17806137, -0.12473015, -0.15408543,  0.01889231, -0.05740419,\n",
       "         0.20068543, -0.13724126, -0.12305908, -0.02857233, -0.01233063,\n",
       "         0.03412107,  0.0400502 , -0.04964302,  0.10450687, -0.154278  ,\n",
       "        -0.35581103, -0.07382981, -0.06047833,  0.00114598, -0.05441512,\n",
       "        -0.04542955,  0.09264226, -0.15211549, -0.03438062,  0.08836637,\n",
       "         0.08995709,  0.01059248, -0.06045713,  0.22146197,  0.04968353,\n",
       "        -0.27947888,  0.06699341,  0.15163529,  0.27715811,  0.1120538 ,\n",
       "         0.02231513,  0.02394987, -0.14067842,  0.15735002, -0.17129619,\n",
       "         0.00047126,  0.11536092,  0.08402877,  0.03520328,  0.04029964,\n",
       "        -0.0751263 ,  0.03819021,  0.13985337, -0.18513756,  0.01779577,\n",
       "         0.09413364, -0.0131179 , -0.01442161, -0.11468244,  0.26571783,\n",
       "         0.05658165, -0.10386717, -0.19298883,  0.14128658, -0.1656796 ,\n",
       "        -0.11598696,  0.06347033, -0.09038578, -0.15682302, -0.29321364,\n",
       "         0.01046017,  0.36561424,  0.16922806, -0.16529007,  0.12430111,\n",
       "        -0.00881   , -0.06768154,  0.10526734,  0.15803608, -0.01623601,\n",
       "         0.05136285,  0.00805676,  0.02099159,  0.28607258, -0.02034147,\n",
       "         0.03703042,  0.18433945,  0.0261091 ,  0.04481823, -0.00338145,\n",
       "        -0.01210467, -0.16510308,  0.00711295, -0.18473408, -0.04160303,\n",
       "         0.00956114,  0.02521698,  0.04545507,  0.15575255, -0.27835575,\n",
       "         0.16762488, -0.04445438, -0.09289646,  0.03068478,  0.10765769,\n",
       "        -0.08049914, -0.05274783,  0.13353062, -0.23549281,  0.10849556,\n",
       "         0.11780303,  0.12215497,  0.08642909,  0.15551664,  0.03069597,\n",
       "         0.02904883,  0.00747908, -0.22186194, -0.05924166,  0.11970898,\n",
       "        -0.10158343,  0.10530038, -0.01161722])]"
      ]
     },
     "execution_count": 2,
     "metadata": {},
     "output_type": "execute_result"
    }
   ],
   "source": [
    "image_path = \"./data/girl.jpg\"\n",
    "face = face_recognition.load_image_file(image_path)\n",
    "face_bbs = face_recognition.face_locations(face)\n",
    "face_encodings = face_recognition.face_encodings(face, known_face_locations=face_bbs)\n",
    "face_encodings"
   ]
  },
  {
   "cell_type": "code",
   "execution_count": 3,
   "metadata": {},
   "outputs": [
    {
     "data": {
      "text/plain": [
       "[array([-0.18274091,  0.10431059,  0.03544009, -0.05163359, -0.13263607,\n",
       "        -0.05203699, -0.0683785 , -0.17487426,  0.09165816, -0.08242857,\n",
       "         0.14939368, -0.04716298, -0.17745048, -0.08504643,  0.0071188 ,\n",
       "         0.16217616, -0.13293228, -0.17457567, -0.01870844, -0.02509348,\n",
       "         0.04737847, -0.05183195,  0.02724834,  0.09172902, -0.14209355,\n",
       "        -0.33288419, -0.08233404, -0.13409221,  0.01565576, -0.01170006,\n",
       "        -0.07980458,  0.01359297, -0.15512082, -0.08839157,  0.03394389,\n",
       "         0.08710045,  0.04183759,  0.00238242,  0.25263813, -0.01977065,\n",
       "        -0.28238991,  0.0697407 ,  0.08753251,  0.3109062 ,  0.17822708,\n",
       "         0.0022672 ,  0.06235423, -0.09582599,  0.15775195, -0.14862597,\n",
       "         0.0623254 ,  0.12225942,  0.08732249,  0.00049225, -0.00210157,\n",
       "        -0.15735161,  0.04461724,  0.11039841, -0.21978556,  0.07117806,\n",
       "         0.13847235, -0.07548745, -0.00853674, -0.03913815,  0.27089804,\n",
       "         0.10136581, -0.11365812, -0.16451485,  0.10671215, -0.11323541,\n",
       "        -0.02297661,  0.03736195, -0.20246132, -0.16664478, -0.3365638 ,\n",
       "         0.04576977,  0.42910746,  0.14780758, -0.19857794,  0.0551661 ,\n",
       "        -0.10349009, -0.0081747 ,  0.1457525 ,  0.14416917, -0.02286632,\n",
       "         0.04626093, -0.07148848,  0.0319483 ,  0.19626313, -0.01769885,\n",
       "        -0.0151938 ,  0.20488924,  0.06788894,  0.0681641 ,  0.01692442,\n",
       "         0.07372475, -0.15056157, -0.013522  , -0.17941247, -0.02395679,\n",
       "        -0.01573323, -0.00772327,  0.10669171,  0.14732398, -0.21886694,\n",
       "         0.12474853,  0.00455314,  0.02371096, -0.0667718 ,  0.0624161 ,\n",
       "        -0.05615081, -0.08630715,  0.09184055, -0.18325885,  0.1550073 ,\n",
       "         0.19639421,  0.08633387,  0.10202808,  0.136812  , -0.00915483,\n",
       "         0.01363712,  0.04150154, -0.1613349 ,  0.02747654,  0.11287388,\n",
       "        -0.0430829 ,  0.1493983 ,  0.07586081])]"
      ]
     },
     "execution_count": 3,
     "metadata": {},
     "output_type": "execute_result"
    }
   ],
   "source": [
    "image_path_2 = \"./data/tao.jpg\"\n",
    "face_2 = face_recognition.load_image_file(image_path_2)\n",
    "face_bbs_2 = face_recognition.face_locations(face_2)\n",
    "face_encodings_2 = face_recognition.face_encodings(face_2, known_face_locations=face_bbs_2)\n",
    "face_encodings_2"
   ]
  },
  {
   "cell_type": "code",
   "execution_count": 7,
   "metadata": {},
   "outputs": [
    {
     "data": {
      "text/plain": [
       "[True]"
      ]
     },
     "execution_count": 7,
     "metadata": {},
     "output_type": "execute_result"
    }
   ],
   "source": [
    "face_recognition.compare_faces(face_encodings, face_encodings_2[0])"
   ]
  },
  {
   "cell_type": "code",
   "execution_count": 16,
   "metadata": {},
   "outputs": [
    {
     "name": "stdout",
     "output_type": "stream",
     "text": [
      "Detected language: en\n"
     ]
    }
   ],
   "source": [
    "import whisper\n",
    "\n",
    "model = whisper.load_model(\"base\")\n",
    "audio = whisper.pad_or_trim(whisper.load_audio(\"/Users/admin/Downloads/out.mp3\"))\n",
    "mel = whisper.log_mel_spectrogram(audio).to(model.device)\n",
    "_, probs = model.detect_language(mel)\n",
    "print(f\"Detected language: {max(probs, key=probs.get)}\")"
   ]
  }
 ],
 "metadata": {
  "kernelspec": {
   "display_name": "base",
   "language": "python",
   "name": "python3"
  },
  "language_info": {
   "codemirror_mode": {
    "name": "ipython",
    "version": 3
   },
   "file_extension": ".py",
   "mimetype": "text/x-python",
   "name": "python",
   "nbconvert_exporter": "python",
   "pygments_lexer": "ipython3",
   "version": "3.10.13"
  }
 },
 "nbformat": 4,
 "nbformat_minor": 2
}
